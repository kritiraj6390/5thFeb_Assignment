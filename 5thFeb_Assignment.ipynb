{
 "cells": [
  {
   "cell_type": "code",
   "execution_count": 1,
   "id": "81b24ca1-3148-4635-8506-b1e7d790e6bc",
   "metadata": {},
   "outputs": [],
   "source": [
    "#Q1. Explain Class and Object with respect to Object-Oriented Programming. Give a suitable example.\n",
    "\n",
    "#Ans: Classes are a blueprint or a skeleton describing the behaviour of an object of its type. Objects are the entities that access the code inside a class and represent it. Unlimited objects can be created of the same class.\n",
    "#A real life example of a class is a blueprint of a house. The blueprint can define the architecture of the house including the number and size of doors, windows, etc. The object would be the house in this case. One can make any number of houses using the same blueprint. \n",
    "\n"
   ]
  },
  {
   "cell_type": "code",
   "execution_count": 2,
   "id": "df416d1a-9657-419e-940f-df03d19a931c",
   "metadata": {},
   "outputs": [],
   "source": [
    "#Q2. Name the four pillars of OOPs.\n",
    "\n",
    "#Ans: The four pillars of OOP are :\n",
    "#a. Inheritance\n",
    "#b. Encapsulation\n",
    "#c. Abstraction \n",
    "#d. Polymorphism"
   ]
  },
  {
   "cell_type": "code",
   "execution_count": 3,
   "id": "428501ac-4b4a-40f8-b2d7-2b53bf3b2684",
   "metadata": {},
   "outputs": [],
   "source": [
    "#Q3. Explain why the __init__() function is used. Give a suitable example.\n",
    "\n",
    "#Ans: __init__() is a special function in Python that initializes the object's attributes."
   ]
  },
  {
   "cell_type": "code",
   "execution_count": 4,
   "id": "dbb3787a-2f5a-420e-b1a8-df285fe81458",
   "metadata": {},
   "outputs": [],
   "source": [
    "#example\n",
    "\n",
    "class test:\n",
    "    def __init__(self, name):\n",
    "        self.name=name\n",
    "    def return_name(self):\n",
    "        return self.name"
   ]
  },
  {
   "cell_type": "code",
   "execution_count": 8,
   "id": "48058c4b-1e39-4ba3-8214-8f482a03a6fc",
   "metadata": {},
   "outputs": [],
   "source": [
    "Kriti = test(\"Kriti\")"
   ]
  },
  {
   "cell_type": "code",
   "execution_count": 9,
   "id": "5313426e-e7ff-4c63-b680-53a7ad53937f",
   "metadata": {},
   "outputs": [
    {
     "data": {
      "text/plain": [
       "'Kriti'"
      ]
     },
     "execution_count": 9,
     "metadata": {},
     "output_type": "execute_result"
    }
   ],
   "source": [
    "Kriti.return_name()"
   ]
  },
  {
   "cell_type": "code",
   "execution_count": 10,
   "id": "954822ab-fbae-4fa1-8741-3a1d2d262a07",
   "metadata": {},
   "outputs": [],
   "source": [
    "#Q4. Why self is used in OOPs?"
   ]
  },
  {
   "cell_type": "code",
   "execution_count": 11,
   "id": "f8bb1142-b440-4530-8f9e-edb5be83cfe7",
   "metadata": {},
   "outputs": [],
   "source": [
    "#Ans: The self variable is used to represent the instance of the class. It works as a reference to the object. Python uses the self parameter to refer to instance attributes and methods of the class."
   ]
  },
  {
   "cell_type": "code",
   "execution_count": 12,
   "id": "3e1fd489-0c28-4611-b2e3-3465f19caaba",
   "metadata": {},
   "outputs": [],
   "source": [
    "#Q5. What is inheritance? Give an example for each type of inheritance."
   ]
  },
  {
   "cell_type": "code",
   "execution_count": 13,
   "id": "40170ac5-1041-4825-8c89-c1728b72412f",
   "metadata": {},
   "outputs": [],
   "source": [
    "#Ans: Inheritance is a process of calling a class inside another class. This helps the class inherit the properties of the other class. The various types of inheritance are:\n",
    "# a. Single Inheritance\n",
    "# b. Multiple Inheritance\n",
    "# c. Multilevel Inheritance\n",
    "# d. Hierarchy Inheritance"
   ]
  },
  {
   "cell_type": "code",
   "execution_count": 14,
   "id": "fafe1a58-5610-440e-a3d6-1f7069251af4",
   "metadata": {},
   "outputs": [
    {
     "name": "stdout",
     "output_type": "stream",
     "text": [
      "This function is in parent class.\n",
      "This function is in child class.\n"
     ]
    }
   ],
   "source": [
    "# single inheritance:\n",
    "\n",
    "class Parent:\n",
    "    def func1(self):\n",
    "        print(\"This function is in parent class.\")\n",
    "class Child(Parent):\n",
    "    def func2(self):\n",
    "        print(\"This function is in child class.\")\n",
    "object = Child()\n",
    "object.func1()\n",
    "object.func2()"
   ]
  },
  {
   "cell_type": "code",
   "execution_count": 15,
   "id": "0742a436-b629-45f6-a95a-ef72d7a2be3e",
   "metadata": {},
   "outputs": [],
   "source": [
    "#multiple inheritance:\n",
    "\n",
    "class Mother:\n",
    "    mothername = \"\"\n",
    " \n",
    "    def mother(self):\n",
    "        print(self.mothername)\n",
    "class Father:\n",
    "    fathername = \"\"\n",
    " \n",
    "    def father(self):\n",
    "        print(self.fathername)\n",
    "        \n",
    "class Son(Mother, Father):\n",
    "    def parents(self):\n",
    "        print(\"Father :\", self.fathername)\n",
    "        print(\"Mother :\", self.mothername)"
   ]
  },
  {
   "cell_type": "code",
   "execution_count": 16,
   "id": "cd82132c-0609-40b8-89c4-096aa74698c3",
   "metadata": {},
   "outputs": [
    {
     "name": "stdout",
     "output_type": "stream",
     "text": [
      "Father : RAM\n",
      "Mother : SITA\n"
     ]
    }
   ],
   "source": [
    "Son1 = Son()\n",
    "Son1.fathername = \"RAM\"\n",
    "Son1.mothername = \"SITA\"\n",
    "Son1.parents()"
   ]
  },
  {
   "cell_type": "code",
   "execution_count": 19,
   "id": "26fb5a88-7cc9-4bfe-8fb6-03bea9f641bf",
   "metadata": {},
   "outputs": [],
   "source": [
    "#multilevel inheritance:\n",
    "\n",
    "class Grandfather:\n",
    " \n",
    "    def __init__(self, grandfathername):\n",
    "        self.grandfathername = grandfathername\n",
    "class Father(Grandfather):\n",
    "    def __init__(self, fathername, grandfathername):\n",
    "        self.fathername = fathername\n",
    "        Grandfather.__init__(self, grandfathername)\n",
    "class Son(Father):\n",
    "    def __init__(self, sonname, fathername, grandfathername):\n",
    "        self.sonname = sonname\n",
    "        Father.__init__(self, fathername, grandfathername)\n",
    "    def print_name(self):\n",
    "        print('Grandfather name :', self.grandfathername)\n",
    "        print(\"Father name :\", self.fathername)\n",
    "        print(\"Son name :\", self.sonname)"
   ]
  },
  {
   "cell_type": "code",
   "execution_count": 21,
   "id": "1bbe0fd9-6198-4e71-a4f1-b2eca5f586c2",
   "metadata": {},
   "outputs": [
    {
     "name": "stdout",
     "output_type": "stream",
     "text": [
      "Kailash\n",
      "Grandfather name : Kailash\n",
      "Father name : Mukesh\n",
      "Son name : Kabir\n"
     ]
    }
   ],
   "source": [
    "s1 = Son('Kabir', 'Mukesh', 'Kailash')\n",
    "print(s1.grandfathername)\n",
    "s1.print_name()"
   ]
  },
  {
   "cell_type": "code",
   "execution_count": null,
   "id": "77891161-c786-4b38-8b00-1ab2a3fc7c17",
   "metadata": {},
   "outputs": [],
   "source": []
  }
 ],
 "metadata": {
  "kernelspec": {
   "display_name": "Python 3 (ipykernel)",
   "language": "python",
   "name": "python3"
  },
  "language_info": {
   "codemirror_mode": {
    "name": "ipython",
    "version": 3
   },
   "file_extension": ".py",
   "mimetype": "text/x-python",
   "name": "python",
   "nbconvert_exporter": "python",
   "pygments_lexer": "ipython3",
   "version": "3.10.8"
  }
 },
 "nbformat": 4,
 "nbformat_minor": 5
}
